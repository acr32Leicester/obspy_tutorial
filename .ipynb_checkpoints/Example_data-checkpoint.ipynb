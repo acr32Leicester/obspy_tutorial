{
 "cells": [
  {
   "cell_type": "markdown",
   "id": "f6595223",
   "metadata": {},
   "source": [
    "# Raspberry Shake Earthquake Data"
   ]
  },
  {
   "cell_type": "markdown",
   "id": "7692fefa",
   "metadata": {},
   "source": [
    "Raspberry shakes are small seismometers that can record earthquakes from across the world! These are much cheaper than seismometers and are designed for school or personal use – the location of available stations can be found online: https://stationview.raspberryshake.org/#/?lat=52.62353&lon=0.32118&zoom=8.986&net=AM&sta=R2A48 . \n",
    "\n",
    "The example below is a recent earthquake recorded on a Raspberry shake in Leicester. The top plot shows the raw signal recorded, and the bottom shows the earthquake after it has been filtered.\n",
    "\n",
    "Try editing the filters under low_filt and high_filt to see how this changes the signal. Just click in the box and start change the numbers that you would like to change. You can also change the start time to see if you can find any other earthquakes! If you want to, use the link above to find other stations, and change the station name under STATION so you can download data from this station instead."
   ]
  },
  {
   "cell_type": "code",
   "execution_count": null,
   "id": "7a8605b7",
   "metadata": {},
   "outputs": [],
   "source": [
    "from obspy import UTCDateTime\n",
    "from obspy.clients.fdsn import Client \n",
    "\n",
    "# Variables\n",
    "\n",
    "\n",
    "start_time=\"2022-03-16 14:36:33\"\n",
    "time_length = 60  # time in minutes after the start time\n",
    "\n",
    "    # Station Information\n",
    "STATION = \"RBC16\"\n",
    "NETWORK= 'AM'\n",
    "LOC_CODE = '00'\n",
    "CHANNEL = 'EHZ'\n",
    "CLIENT = \"RASPISHAKE\"\n",
    "\n",
    "# Filtering the waveform\n",
    "pre_filt=(0.001, 0.002, 45.0, 50.0)\n",
    "low_filt= 1.0\n",
    "high_filt= 2.0\n",
    "\n",
    "\n",
    "start = UTCDateTime(start_time)\n",
    "end= start + time_length * 60\n",
    "\n",
    "client = Client(CLIENT)\n",
    "\n",
    "st_0 = client.get_waveforms(NETWORK, STATION, LOC_CODE, CHANNEL, start, end, attach_response=True)\n",
    "\n",
    "st_1 = client.get_waveforms(NETWORK, STATION, LOC_CODE, CHANNEL, start, end, attach_response=True)\n",
    "\n",
    "st_1.remove_response(pre_filt=pre_filt, output='DISP')\n",
    "st_1.filter('bandpass', freqmin=low_filt, freqmax=high_filt, corners=2, zerophase=True)\n",
    "\n",
    "st_0.plot() # Just the raw counts of the instrument\n",
    "st_1.plot() # Filtered instrument"
   ]
  }
 ],
 "metadata": {
  "kernelspec": {
   "display_name": "Python 3 (ipykernel)",
   "language": "python",
   "name": "python3"
  },
  "language_info": {
   "codemirror_mode": {
    "name": "ipython",
    "version": 3
   },
   "file_extension": ".py",
   "mimetype": "text/x-python",
   "name": "python",
   "nbconvert_exporter": "python",
   "pygments_lexer": "ipython3",
   "version": "3.10.5"
  }
 },
 "nbformat": 4,
 "nbformat_minor": 5
}
